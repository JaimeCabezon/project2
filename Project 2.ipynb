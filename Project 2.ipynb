{
 "cells": [
  {
   "cell_type": "markdown",
   "metadata": {},
   "source": [
    "                                      Final Project \n",
    "   Project overview:\n",
    "   \n",
    "   Wage increases in line with increases in consumer purchasing power is hot topic in American politics, especially in electoral politics. Proponents of wage increases argue that, since the cost of living has increased, so too must wages to preserve the way of life that Americans have lived, while opponents argue that the responsibility to raise wages lies with the market - that is, firms and employers who want to find labor. \n",
    "   The purpose of this project will study the relationship between economic activities (Consumer Price Index, Total Nonfarm Payroll, and yield curve) in the United States over the past 15 years, with particular emphasis on the economic recession period in 2008 and 2020. We assume that wage is positively correlated with price levels and negatively correlated with the yield curve. We will use time-series data of these to confirm our hypotheses. \n",
    "   \n",
    "   Project Structure:\n",
    "   \n",
    "   We anticipate that our project will have 3 sections; in the first section, we will define our key variables and explain the sources from which we attain our data. We will also review content from the standard economic model which is relevant to our experiment and hypothesize based on the standard model as well as from the empirical data we’ve compiled.\n",
    "   Next, we will do a preliminary analysis of the data using basic graphing and statistical techniques on Python; for example, we will plot Consumer Price Index and Total Nonfarm Payroll, two basic variables from FRED, to visualize any possible correlations between these two variables.\n",
    "   Finally, we analyze the data using various regression techniques to find relationships and to test our hypotheses from the first section. We will also briefly acknowledge the consequences of our analysis’s results for the standard macroeconomic model as well as to determine the direction in which research should continue for this topic.\n",
    "   \n",
    "   Data Report:\n",
    "   \n",
    "   We downloaded the data for our project from the Federal Reserve Economic Data website (FRED), which provides monthly statistics for measures of economic activity.\n",
    "   \n",
    "   Key Variables:\n",
    "   \n",
    "   We are particularly interested in FRED’s data on Consumer Price Index, which is defined by the Bureau of Labor Statistics as “a measure of the average change over time in the prices paid by urban consumers for a market basket of consumer goods and services.” Alternatively, we may interpret CPI as the aggregate effect of inflation on consumers’ purchasing power.\n",
    "   We will also download data pertaining to the Total Nonfarm Payroll and the yield curve; the former figure is defined by FRED as “a measure of the number of U.S. workers in the economy that excludes proprietors, private household employees, unpaid volunteers, farm employees, and the unincorporated self-employed. This measure accounts for approximately 80 percent of the workers who contribute to Gross Domestic Product (GDP).” Finally, as per the US Department of the Treasury Resource Center, the yield curve “relates the yield on a security to its time to maturity…based on the closing market bid yields on actively traded Treasury securities in the over-the-counter market.\n",
    "   \n",
    "   \n"
   ]
  },
  {
   "cell_type": "code",
   "execution_count": null,
   "metadata": {},
   "outputs": [],
   "source": []
  }
 ],
 "metadata": {
  "kernelspec": {
   "display_name": "Python 3",
   "language": "python",
   "name": "python3"
  },
  "language_info": {
   "codemirror_mode": {
    "name": "ipython",
    "version": 3
   },
   "file_extension": ".py",
   "mimetype": "text/x-python",
   "name": "python",
   "nbconvert_exporter": "python",
   "pygments_lexer": "ipython3",
   "version": "3.8.3"
  }
 },
 "nbformat": 4,
 "nbformat_minor": 4
}
