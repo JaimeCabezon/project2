{
 "cells": [
  {
   "cell_type": "code",
   "execution_count": null,
   "metadata": {},
   "outputs": [],
   "source": [
    "                                Final Project\n",
    "    Overview\n",
    "    \n",
    "    Wage increases in line with increases in consumer purchasing power is hot topic in \n",
    "    American politics, especially in electoral politics. Proponents of wage increases \n",
    "    argue that, since the cost of living has increased, so too must wages to preserve \n",
    "    the way of life that Americans have lived, while opponents argue that the responsibility \n",
    "    to raise wages lies with the market - that is, firms and employers who want to find labor. \n",
    "    \n",
    "    The purpose of this project will study the relationship between economic activities \n",
    "    (Consumer Price Index, Total Nonfarm Payroll, and yield curve) in the United States \n",
    "    over the past 15 years, with particular emphasis on the economic recession period in \n",
    "    2008 and 2020. We assume that wage is positively correlated with price levels and \n",
    "    negatively correlated with the yield curve. We will use time-series data of these \n",
    "    to confirm our hypotheses. \n"
   ]
  }
 ],
 "metadata": {
  "kernelspec": {
   "display_name": "Python 3",
   "language": "python",
   "name": "python3"
  },
  "language_info": {
   "codemirror_mode": {
    "name": "ipython",
    "version": 3
   },
   "file_extension": ".py",
   "mimetype": "text/x-python",
   "name": "python",
   "nbconvert_exporter": "python",
   "pygments_lexer": "ipython3",
   "version": "3.8.3"
  }
 },
 "nbformat": 4,
 "nbformat_minor": 4
}
