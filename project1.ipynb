{
 "cells": [
  {
   "cell_type": "markdown",
   "metadata": {},
   "source": [
    "                                    Final Project \n",
    "\n",
    "---------------------\n",
    "\n",
    "   Project overview:\n",
    "   \n",
    "   Economists Arturo Estrella and Tobias Adrian pointed out that at the end of the Federal Reserve’s monetary policy tightening cycle will be followed by increases in the unemployment rate when the spread between the 3-month and the 10-year constant maturity Treasury rate is negative or less than 93 positive basis points.\n",
    "   \n",
    "   Normally, a low unemployment rate tends to be a reliable predictor of an economic recession, because the unemployment rate tends to reach a trough shortly before an economic recession, and once the recession begins, unemployment rises sharply. \n",
    "   \n",
    "   The inversion of the yield curve has always been regarded as a reliable predictor of economic recession. Under normal circumstances, an upward slope yield curve indicates economic growth.  Because the short-term treasury is more liquid than the long-term treasury, the interest rate of the long-term treasury is higher than the short-term treasury.  However, when the interest rate of the long-term treasury is lower than the short-term treasury, the yield curve is inverted. Investors are more willing to hold long-term treasury bonds with low-interest rates to lock in funds, indicating that investors have weak confidence in the future long-term economic growth. Therefore, the Fed needs to lower interest rates to make the economy enter a period of prosperity, curb the rise in the unemployment rate, and reduce the unemployment rate.\n",
    "\n",
    "   The purpose of this project will study the relationship between the unemployment rate and the yield curve in the United States. We assume that the decline in the yield curve heralds economic recession, and followed by an increase in the unemployment rate.  We will examine the spread between 10-Year Treasury Constant Maturity and 2-Year Treasury Constant Maturity, to test if we could get the same result to support Arturo Estrella and Tobias Adrian's hypotheses.\n",
    "  \n",
    "  \n",
    "   --------------- \n",
    "   \n",
    "   Project Structure:\n",
    "\n",
    "Our project will consist of 3 sections. In the first section, we will define our key variables and cite our sources. We will also briefly review the portions of the standard economic model which are relevant to our experiment and hypothesize based on the implications of the standard model.\n",
    "\n",
    "Next, we will preliminarily analyze our data using basic graphic and statistical techniques on Python. In particular, we will plot time-series graphs for the national unemployment rate and the yield curve, two basic variables from FRED, to visualize any possible correlations between the two variables.\n",
    "\n",
    "Finally, we will merge our two datasets for the unemployment rate and the yield curve so we can then run a regression analysis to test our hypothesis of a correlative relationship between the two aforementioned variables. We will also briefly acknowledge the consequences of our analysis’s results for the standard macroeconomic model as well as muse about the direction in which research should continue for this topic.\n",
    "\n",
    "   Data Report:\n",
    "\n",
    "We downloaded the data for our project from the Federal Reserve Economic Data website (FRED), which provides monthly statistics for measures of economic activity. This website contains several time-series CSV’s recording the values of many macroeconomic variables, including but certainly not limited to the unemployment rate and the yield curve.\n",
    "\n",
    "   Key Variables:\n",
    "\n",
    "We are particularly interested in a time-series record of the unemployment rate in the US. We can define the unemployment rate, as per any macroeconomics textbook, as the ratio of the number of individuals with jobs to the number of individuals with jobs plus the number of jobless individuals searching for employment. By definition of this fraction, the unemployment rate will always be a rational number greater than zero and and less than one. For the purposes of this experiment, the unemployment rate will serve as a proxy for economic recession, which agrees with the assumptions of the standard macroeconomic model; in times characterized by a high unemployment rate, firms employ fewer workers which limits the amount of consumption spending in an economy, consequently lowering the economy’s output and resulting in an economic recession.\n",
    "\n",
    "Next, according to the US Department of the Treasury Resource Center, the yield curve “relates the yield on a security to its time to maturity...based on the closing market bid yields on actively traded Treasury securities in the over-the-counter market.” As we mentioned above, the yield curve represents investors’ confidence in the state of the economy. By definition, the y-axis represents the percentage yield of 10-year treasury bonds minus that of 2-year treasury bonds. Given that the former bonds have a longer time to mature, we would expect that the percentage yields of the 10-year bonds would be greater than that of the 2-year bonds, so the difference defined in the yield curve should be positive. However, an inversion of the yield curve occurs when the difference between the percentage yields is negative; in these instances, the collective crisis of confidence in the economy leads investors to hold onto longer-term bonds with lower interest rates to secure their funds rather than to take risks during an ominous economic outlook.\n",
    "\n",
    "Our hypothesis is that there exists a statistically significant positive relationship between the yield curve and the unemployment rate. In particular, we expect that as the yield curve increases, so does the unemployment rate; by definition, the yield curve is a function of the interest rate, so an increase in the yield curve implies an increase in the interest rate and consequently the standard macroeconomic prediction of an increase in the unemployment rate, resulting in recession.\n",
    "\n",
    "   \n",
    "   -----------------------\n"
   ]
  },
  {
   "cell_type": "code",
   "execution_count": 2,
   "metadata": {},
   "outputs": [],
   "source": [
    "#Key Imports\n",
    "import numpy as np\n",
    "import matplotlib.pyplot as plt\n",
    "%matplotlib inline\n",
    "import pandas as pd\n",
    "import statsmodels.api as sm\n",
    "from statsmodels.iolib.summary2 import summary_col"
   ]
  },
  {
   "cell_type": "code",
   "execution_count": 3,
   "metadata": {},
   "outputs": [
    {
     "data": {
      "text/html": [
       "<div>\n",
       "<style scoped>\n",
       "    .dataframe tbody tr th:only-of-type {\n",
       "        vertical-align: middle;\n",
       "    }\n",
       "\n",
       "    .dataframe tbody tr th {\n",
       "        vertical-align: top;\n",
       "    }\n",
       "\n",
       "    .dataframe thead th {\n",
       "        text-align: right;\n",
       "    }\n",
       "</style>\n",
       "<table border=\"1\" class=\"dataframe\">\n",
       "  <thead>\n",
       "    <tr style=\"text-align: right;\">\n",
       "      <th></th>\n",
       "      <th>DATE</th>\n",
       "      <th>VALUE</th>\n",
       "    </tr>\n",
       "  </thead>\n",
       "  <tbody>\n",
       "    <tr>\n",
       "      <th>0</th>\n",
       "      <td>1948-01-01</td>\n",
       "      <td>3.4</td>\n",
       "    </tr>\n",
       "    <tr>\n",
       "      <th>1</th>\n",
       "      <td>1948-02-01</td>\n",
       "      <td>3.8</td>\n",
       "    </tr>\n",
       "    <tr>\n",
       "      <th>2</th>\n",
       "      <td>1948-03-01</td>\n",
       "      <td>4.0</td>\n",
       "    </tr>\n",
       "    <tr>\n",
       "      <th>3</th>\n",
       "      <td>1948-04-01</td>\n",
       "      <td>3.9</td>\n",
       "    </tr>\n",
       "    <tr>\n",
       "      <th>4</th>\n",
       "      <td>1948-05-01</td>\n",
       "      <td>3.5</td>\n",
       "    </tr>\n",
       "  </tbody>\n",
       "</table>\n",
       "</div>"
      ],
      "text/plain": [
       "         DATE  VALUE\n",
       "0  1948-01-01    3.4\n",
       "1  1948-02-01    3.8\n",
       "2  1948-03-01    4.0\n",
       "3  1948-04-01    3.9\n",
       "4  1948-05-01    3.5"
      ]
     },
     "execution_count": 3,
     "metadata": {},
     "output_type": "execute_result"
    }
   ],
   "source": [
    "#Access Data : Unemployment Rate\n",
    "url = 'http://research.stlouisfed.org/fred2/series/UNRATE/downloaddata/UNRATE.csv'\n",
    "data = pd.read_csv(url, parse_dates=True)\n",
    "data.head()"
   ]
  },
  {
   "cell_type": "code",
   "execution_count": 4,
   "metadata": {},
   "outputs": [
    {
     "data": {
      "text/html": [
       "<div>\n",
       "<style scoped>\n",
       "    .dataframe tbody tr th:only-of-type {\n",
       "        vertical-align: middle;\n",
       "    }\n",
       "\n",
       "    .dataframe tbody tr th {\n",
       "        vertical-align: top;\n",
       "    }\n",
       "\n",
       "    .dataframe thead th {\n",
       "        text-align: right;\n",
       "    }\n",
       "</style>\n",
       "<table border=\"1\" class=\"dataframe\">\n",
       "  <thead>\n",
       "    <tr style=\"text-align: right;\">\n",
       "      <th></th>\n",
       "      <th>DATE</th>\n",
       "      <th>URATE</th>\n",
       "    </tr>\n",
       "  </thead>\n",
       "  <tbody>\n",
       "    <tr>\n",
       "      <th>0</th>\n",
       "      <td>1948-01-01</td>\n",
       "      <td>3.4</td>\n",
       "    </tr>\n",
       "    <tr>\n",
       "      <th>1</th>\n",
       "      <td>1948-02-01</td>\n",
       "      <td>3.8</td>\n",
       "    </tr>\n",
       "    <tr>\n",
       "      <th>2</th>\n",
       "      <td>1948-03-01</td>\n",
       "      <td>4.0</td>\n",
       "    </tr>\n",
       "    <tr>\n",
       "      <th>3</th>\n",
       "      <td>1948-04-01</td>\n",
       "      <td>3.9</td>\n",
       "    </tr>\n",
       "    <tr>\n",
       "      <th>4</th>\n",
       "      <td>1948-05-01</td>\n",
       "      <td>3.5</td>\n",
       "    </tr>\n",
       "  </tbody>\n",
       "</table>\n",
       "</div>"
      ],
      "text/plain": [
       "         DATE  URATE\n",
       "0  1948-01-01    3.4\n",
       "1  1948-02-01    3.8\n",
       "2  1948-03-01    4.0\n",
       "3  1948-04-01    3.9\n",
       "4  1948-05-01    3.5"
      ]
     },
     "execution_count": 4,
     "metadata": {},
     "output_type": "execute_result"
    }
   ],
   "source": [
    "data.columns=['DATE','URATE']\n",
    "data.head()"
   ]
  },
  {
   "cell_type": "code",
   "execution_count": 5,
   "metadata": {},
   "outputs": [
    {
     "data": {
      "text/html": [
       "<div>\n",
       "<style scoped>\n",
       "    .dataframe tbody tr th:only-of-type {\n",
       "        vertical-align: middle;\n",
       "    }\n",
       "\n",
       "    .dataframe tbody tr th {\n",
       "        vertical-align: top;\n",
       "    }\n",
       "\n",
       "    .dataframe thead th {\n",
       "        text-align: right;\n",
       "    }\n",
       "</style>\n",
       "<table border=\"1\" class=\"dataframe\">\n",
       "  <thead>\n",
       "    <tr style=\"text-align: right;\">\n",
       "      <th></th>\n",
       "      <th>URATE</th>\n",
       "    </tr>\n",
       "  </thead>\n",
       "  <tbody>\n",
       "    <tr>\n",
       "      <th>count</th>\n",
       "      <td>875.000000</td>\n",
       "    </tr>\n",
       "    <tr>\n",
       "      <th>mean</th>\n",
       "      <td>5.765371</td>\n",
       "    </tr>\n",
       "    <tr>\n",
       "      <th>std</th>\n",
       "      <td>1.707381</td>\n",
       "    </tr>\n",
       "    <tr>\n",
       "      <th>min</th>\n",
       "      <td>2.500000</td>\n",
       "    </tr>\n",
       "    <tr>\n",
       "      <th>25%</th>\n",
       "      <td>4.500000</td>\n",
       "    </tr>\n",
       "    <tr>\n",
       "      <th>50%</th>\n",
       "      <td>5.600000</td>\n",
       "    </tr>\n",
       "    <tr>\n",
       "      <th>75%</th>\n",
       "      <td>6.800000</td>\n",
       "    </tr>\n",
       "    <tr>\n",
       "      <th>max</th>\n",
       "      <td>14.700000</td>\n",
       "    </tr>\n",
       "  </tbody>\n",
       "</table>\n",
       "</div>"
      ],
      "text/plain": [
       "            URATE\n",
       "count  875.000000\n",
       "mean     5.765371\n",
       "std      1.707381\n",
       "min      2.500000\n",
       "25%      4.500000\n",
       "50%      5.600000\n",
       "75%      6.800000\n",
       "max     14.700000"
      ]
     },
     "execution_count": 5,
     "metadata": {},
     "output_type": "execute_result"
    }
   ],
   "source": [
    "#Summary Statistics for Unemployment Rate\n",
    "data.describe()"
   ]
  },
  {
   "cell_type": "code",
   "execution_count": 6,
   "metadata": {},
   "outputs": [
    {
     "data": {
      "image/png": "[encoded data removed]",
      "text/plain": [
       "<Figure size 864x432 with 1 Axes>"
      ]
     },
     "metadata": {
      "needs_background": "light"
     },
     "output_type": "display_data"
    }
   ],
   "source": [
    "#Graphing the Unemployment Rate\n",
    "data1=data.set_index('DATE')\n",
    "ax = data1['1976':'2020'].plot(title='US Unemployment Rate', legend=False, figsize=(12,6))\n",
    "ax.set_xlabel('year', fontsize=12)\n",
    "ax.set_ylabel('%', fontsize=12)\n",
    "plt.show()"
   ]
  },
  {
   "cell_type": "code",
   "execution_count": 7,
   "metadata": {},
   "outputs": [
    {
     "data": {
      "text/html": [
       "<div>\n",
       "<style scoped>\n",
       "    .dataframe tbody tr th:only-of-type {\n",
       "        vertical-align: middle;\n",
       "    }\n",
       "\n",
       "    .dataframe tbody tr th {\n",
       "        vertical-align: top;\n",
       "    }\n",
       "\n",
       "    .dataframe thead th {\n",
       "        text-align: right;\n",
       "    }\n",
       "</style>\n",
       "<table border=\"1\" class=\"dataframe\">\n",
       "  <thead>\n",
       "    <tr style=\"text-align: right;\">\n",
       "      <th></th>\n",
       "      <th>DATE</th>\n",
       "      <th>VALUE</th>\n",
       "    </tr>\n",
       "  </thead>\n",
       "  <tbody>\n",
       "    <tr>\n",
       "      <th>0</th>\n",
       "      <td>1976-06-01</td>\n",
       "      <td>0.80</td>\n",
       "    </tr>\n",
       "    <tr>\n",
       "      <th>1</th>\n",
       "      <td>1976-07-01</td>\n",
       "      <td>0.98</td>\n",
       "    </tr>\n",
       "    <tr>\n",
       "      <th>2</th>\n",
       "      <td>1976-08-01</td>\n",
       "      <td>1.14</td>\n",
       "    </tr>\n",
       "    <tr>\n",
       "      <th>3</th>\n",
       "      <td>1976-09-01</td>\n",
       "      <td>1.17</td>\n",
       "    </tr>\n",
       "    <tr>\n",
       "      <th>4</th>\n",
       "      <td>1976-10-01</td>\n",
       "      <td>1.43</td>\n",
       "    </tr>\n",
       "  </tbody>\n",
       "</table>\n",
       "</div>"
      ],
      "text/plain": [
       "         DATE  VALUE\n",
       "0  1976-06-01   0.80\n",
       "1  1976-07-01   0.98\n",
       "2  1976-08-01   1.14\n",
       "3  1976-09-01   1.17\n",
       "4  1976-10-01   1.43"
      ]
     },
     "execution_count": 7,
     "metadata": {},
     "output_type": "execute_result"
    }
   ],
   "source": [
    "#Access Data: 10-Year Treasury Constant Maturity Minus 2-Year Treasury Constant Maturity\n",
    "url_y = 'http://research.stlouisfed.org/fred2/series/T10Y2YM/downloaddata/T10Y2YM.csv'\n",
    "data_y = pd.read_csv(url_y, parse_dates=True)\n",
    "data_y.head()"
   ]
  },
  {
   "cell_type": "code",
   "execution_count": 8,
   "metadata": {},
   "outputs": [
    {
     "data": {
      "text/html": [
       "<div>\n",
       "<style scoped>\n",
       "    .dataframe tbody tr th:only-of-type {\n",
       "        vertical-align: middle;\n",
       "    }\n",
       "\n",
       "    .dataframe tbody tr th {\n",
       "        vertical-align: top;\n",
       "    }\n",
       "\n",
       "    .dataframe thead th {\n",
       "        text-align: right;\n",
       "    }\n",
       "</style>\n",
       "<table border=\"1\" class=\"dataframe\">\n",
       "  <thead>\n",
       "    <tr style=\"text-align: right;\">\n",
       "      <th></th>\n",
       "      <th>DATE</th>\n",
       "      <th>Yield Curve</th>\n",
       "    </tr>\n",
       "  </thead>\n",
       "  <tbody>\n",
       "    <tr>\n",
       "      <th>0</th>\n",
       "      <td>1976-06-01</td>\n",
       "      <td>0.80</td>\n",
       "    </tr>\n",
       "    <tr>\n",
       "      <th>1</th>\n",
       "      <td>1976-07-01</td>\n",
       "      <td>0.98</td>\n",
       "    </tr>\n",
       "    <tr>\n",
       "      <th>2</th>\n",
       "      <td>1976-08-01</td>\n",
       "      <td>1.14</td>\n",
       "    </tr>\n",
       "    <tr>\n",
       "      <th>3</th>\n",
       "      <td>1976-09-01</td>\n",
       "      <td>1.17</td>\n",
       "    </tr>\n",
       "    <tr>\n",
       "      <th>4</th>\n",
       "      <td>1976-10-01</td>\n",
       "      <td>1.43</td>\n",
       "    </tr>\n",
       "  </tbody>\n",
       "</table>\n",
       "</div>"
      ],
      "text/plain": [
       "         DATE  Yield Curve\n",
       "0  1976-06-01         0.80\n",
       "1  1976-07-01         0.98\n",
       "2  1976-08-01         1.14\n",
       "3  1976-09-01         1.17\n",
       "4  1976-10-01         1.43"
      ]
     },
     "execution_count": 8,
     "metadata": {},
     "output_type": "execute_result"
    }
   ],
   "source": [
    "data_y.columns=['DATE', 'Yield Curve']\n",
    "data_y.head()"
   ]
  },
  {
   "cell_type": "code",
   "execution_count": 9,
   "metadata": {},
   "outputs": [
    {
     "data": {
      "text/html": [
       "<div>\n",
       "<style scoped>\n",
       "    .dataframe tbody tr th:only-of-type {\n",
       "        vertical-align: middle;\n",
       "    }\n",
       "\n",
       "    .dataframe tbody tr th {\n",
       "        vertical-align: top;\n",
       "    }\n",
       "\n",
       "    .dataframe thead th {\n",
       "        text-align: right;\n",
       "    }\n",
       "</style>\n",
       "<table border=\"1\" class=\"dataframe\">\n",
       "  <thead>\n",
       "    <tr style=\"text-align: right;\">\n",
       "      <th></th>\n",
       "      <th>Yield Curve</th>\n",
       "    </tr>\n",
       "  </thead>\n",
       "  <tbody>\n",
       "    <tr>\n",
       "      <th>count</th>\n",
       "      <td>534.000000</td>\n",
       "    </tr>\n",
       "    <tr>\n",
       "      <th>mean</th>\n",
       "      <td>0.926498</td>\n",
       "    </tr>\n",
       "    <tr>\n",
       "      <th>std</th>\n",
       "      <td>0.908005</td>\n",
       "    </tr>\n",
       "    <tr>\n",
       "      <th>min</th>\n",
       "      <td>-2.130000</td>\n",
       "    </tr>\n",
       "    <tr>\n",
       "      <th>25%</th>\n",
       "      <td>0.250000</td>\n",
       "    </tr>\n",
       "    <tr>\n",
       "      <th>50%</th>\n",
       "      <td>0.850000</td>\n",
       "    </tr>\n",
       "    <tr>\n",
       "      <th>75%</th>\n",
       "      <td>1.567500</td>\n",
       "    </tr>\n",
       "    <tr>\n",
       "      <th>max</th>\n",
       "      <td>2.830000</td>\n",
       "    </tr>\n",
       "  </tbody>\n",
       "</table>\n",
       "</div>"
      ],
      "text/plain": [
       "       Yield Curve\n",
       "count   534.000000\n",
       "mean      0.926498\n",
       "std       0.908005\n",
       "min      -2.130000\n",
       "25%       0.250000\n",
       "50%       0.850000\n",
       "75%       1.567500\n",
       "max       2.830000"
      ]
     },
     "execution_count": 9,
     "metadata": {},
     "output_type": "execute_result"
    }
   ],
   "source": [
    "#Summary Statistics for Yield Curve\n",
    "data_y.describe()"
   ]
  },
  {
   "cell_type": "code",
   "execution_count": 10,
   "metadata": {},
   "outputs": [
    {
     "data": {
      "image/png": "[encoded data removed]",
      "text/plain": [
       "<Figure size 864x432 with 1 Axes>"
      ]
     },
     "metadata": {
      "needs_background": "light"
     },
     "output_type": "display_data"
    }
   ],
   "source": [
    "#Graphing Yield Curve\n",
    "data_y1=data_y.set_index('DATE')\n",
    "ax = data_y1['1976':'2020'].plot(title='10-Year Treasury Constant Maturity Minus 2-Year Treasury Constant Maturity', legend=False, figsize=(12,6))\n",
    "ax.set_xlabel('year', fontsize=12)\n",
    "plt.show()"
   ]
  },
  {
   "cell_type": "code",
   "execution_count": 11,
   "metadata": {},
   "outputs": [],
   "source": [
    "data_merge=pd.merge(data, data_y, how='inner', on='DATE', left_on=None, right_on=None,\n",
    "         left_index=False, right_index=False, sort=True,\n",
    "         suffixes=('_x', '_y'), copy=True, indicator=False,\n",
    "         validate=None)\n",
    "data_merge['const']=1"
   ]
  },
  {
   "cell_type": "code",
   "execution_count": 12,
   "metadata": {},
   "outputs": [
    {
     "data": {
      "text/html": [
       "<div>\n",
       "<style scoped>\n",
       "    .dataframe tbody tr th:only-of-type {\n",
       "        vertical-align: middle;\n",
       "    }\n",
       "\n",
       "    .dataframe tbody tr th {\n",
       "        vertical-align: top;\n",
       "    }\n",
       "\n",
       "    .dataframe thead th {\n",
       "        text-align: right;\n",
       "    }\n",
       "</style>\n",
       "<table border=\"1\" class=\"dataframe\">\n",
       "  <thead>\n",
       "    <tr style=\"text-align: right;\">\n",
       "      <th></th>\n",
       "      <th>DATE</th>\n",
       "      <th>URATE</th>\n",
       "      <th>Yield Curve</th>\n",
       "      <th>const</th>\n",
       "    </tr>\n",
       "  </thead>\n",
       "  <tbody>\n",
       "    <tr>\n",
       "      <th>0</th>\n",
       "      <td>1976-06-01</td>\n",
       "      <td>7.6</td>\n",
       "      <td>0.80</td>\n",
       "      <td>1</td>\n",
       "    </tr>\n",
       "    <tr>\n",
       "      <th>1</th>\n",
       "      <td>1976-07-01</td>\n",
       "      <td>7.8</td>\n",
       "      <td>0.98</td>\n",
       "      <td>1</td>\n",
       "    </tr>\n",
       "    <tr>\n",
       "      <th>2</th>\n",
       "      <td>1976-08-01</td>\n",
       "      <td>7.8</td>\n",
       "      <td>1.14</td>\n",
       "      <td>1</td>\n",
       "    </tr>\n",
       "    <tr>\n",
       "      <th>3</th>\n",
       "      <td>1976-09-01</td>\n",
       "      <td>7.6</td>\n",
       "      <td>1.17</td>\n",
       "      <td>1</td>\n",
       "    </tr>\n",
       "    <tr>\n",
       "      <th>4</th>\n",
       "      <td>1976-10-01</td>\n",
       "      <td>7.7</td>\n",
       "      <td>1.43</td>\n",
       "      <td>1</td>\n",
       "    </tr>\n",
       "  </tbody>\n",
       "</table>\n",
       "</div>"
      ],
      "text/plain": [
       "         DATE  URATE  Yield Curve  const\n",
       "0  1976-06-01    7.6         0.80      1\n",
       "1  1976-07-01    7.8         0.98      1\n",
       "2  1976-08-01    7.8         1.14      1\n",
       "3  1976-09-01    7.6         1.17      1\n",
       "4  1976-10-01    7.7         1.43      1"
      ]
     },
     "execution_count": 12,
     "metadata": {},
     "output_type": "execute_result"
    }
   ],
   "source": [
    "data_merge.head()"
   ]
  },
  {
   "cell_type": "code",
   "execution_count": 13,
   "metadata": {},
   "outputs": [
    {
     "data": {
      "text/plain": [
       "[<matplotlib.lines.Line2D at 0x20368f8dd30>]"
      ]
     },
     "execution_count": 13,
     "metadata": {},
     "output_type": "execute_result"
    },
    {
     "data": {
      "image/png": "[encoded data removed]",
      "text/plain": [
       "<Figure size 432x288 with 1 Axes>"
      ]
     },
     "metadata": {
      "needs_background": "light"
     },
     "output_type": "display_data"
    }
   ],
   "source": [
    "from numpy.polynomial.polynomial import polyfit\n",
    "fig,ax=plt.subplots()\n",
    "ax.plot(data_merge['Yield Curve'],data_merge['URATE'],'b*')\n",
    "ax.set_xlabel(\"Yield Curve\")\n",
    "ax.set_ylabel(\"UNEMPLOYMENT RATE\")\n",
    "b,m=polyfit(data_merge['Yield Curve'],data_merge['URATE'],1)\n",
    "ax.plot(data_merge['Yield Curve'],b+m*data_merge['Yield Curve'],'-')"
   ]
  },
  {
   "cell_type": "code",
   "execution_count": 14,
   "metadata": {},
   "outputs": [
    {
     "data": {
      "text/plain": [
       "0.7276003417463172"
      ]
     },
     "execution_count": 14,
     "metadata": {},
     "output_type": "execute_result"
    }
   ],
   "source": [
    "m"
   ]
  },
  {
   "cell_type": "markdown",
   "metadata": {},
   "source": [
    "Regression Analysis:\n",
    "\n",
    "We want to establish a relationship between the unemployment rate and yield curve, so we run a linear regression."
   ]
  },
  {
   "cell_type": "code",
   "execution_count": 16,
   "metadata": {
    "scrolled": true
   },
   "outputs": [
    {
     "name": "stdout",
     "output_type": "stream",
     "text": [
      "                            OLS Regression Results                            \n",
      "==============================================================================\n",
      "Dep. Variable:                  URATE   R-squared:                       0.148\n",
      "Model:                            OLS   Adj. R-squared:                  0.146\n",
      "Method:                 Least Squares   F-statistic:                     92.14\n",
      "Date:                Thu, 10 Dec 2020   Prob (F-statistic):           3.14e-20\n",
      "Time:                        00:49:36   Log-Likelihood:                -1004.0\n",
      "No. Observations:                 534   AIC:                             2012.\n",
      "Df Residuals:                     532   BIC:                             2021.\n",
      "Df Model:                           1                                         \n",
      "Covariance Type:            nonrobust                                         \n",
      "===============================================================================\n",
      "                  coef    std err          t      P>|t|      [0.025      0.975]\n",
      "-------------------------------------------------------------------------------\n",
      "const           5.5952      0.098     56.926      0.000       5.402       5.788\n",
      "Yield Curve     0.7276      0.076      9.599      0.000       0.579       0.877\n",
      "==============================================================================\n",
      "Omnibus:                      116.806   Durbin-Watson:                   0.104\n",
      "Prob(Omnibus):                  0.000   Jarque-Bera (JB):              238.829\n",
      "Skew:                           1.192   Prob(JB):                     1.38e-52\n",
      "Kurtosis:                       5.247   Cond. No.                         2.57\n",
      "==============================================================================\n",
      "\n",
      "Notes:\n",
      "[1] Standard Errors assume that the covariance matrix of the errors is correctly specified.\n"
     ]
    }
   ],
   "source": [
    "reg1 = sm.OLS(endog=data_merge['URATE'],exog=data_merge[['const','Yield Curve']]).fit()\n",
    "print(reg1.summary())"
   ]
  },
  {
   "cell_type": "markdown",
   "metadata": {},
   "source": [
    "   Conclusion:\n",
    "\n",
    "Given the p-value of < 0.001 and the positive coefficient for the yield curve, we have sufficient statistical evidence to reject the null hypothesis that the yield curve has no effect on the unemployment rate, and consequently whether or not the economy goes into a recession. In fact, we have sufficient statistical evidence of a positive correlation between the yield curve and the unemployment rate.\n",
    "\n",
    "This finding is in line with the dogma of standard macroeconomic theory. If we understand the yield curve as a function of interest rates, then we must accept that if the yield curve increases, then interest rates must have increased as well. This change in interest rates influences investors to make different decisions regarding their investments, and their decisions are reflected to some extent in the health and the output of the economy. In particular, we recite the tenet of standard macroeconomic theory that an increase in interest rates essentially increases the cost of investing relative to the investment's future yields; consequently, since output is composed of the sum of net exports, consumption, government spending, and investment, an increase in interest rates decreases total investments and as a result depresses the total output, which is the textbook definition of an economic recession. Of course, by a similar argument a decrease in interest rates results in increased investments, boosting economic growth.\n",
    "\n",
    "However, we must acknowledge our rather low r^2 statistic, which unfortunately means that the yield curve accounts for only a small fraction in the change of the unemployment rate. In order to make this model more accurate, we must add other variables such as the number of small businesses going defunct each month or perhaps the political party of the contemporary presidential administration.\n",
    "\n",
    "We can argue that this experiment supports the conclusions of Arturo Estrella and Tobias Adrian's study. Going forward with further research in this topic, it would be intriguing to calculate the slope of the yield curve for each month since 1976 and then to test for a correlation between the slope of the yield curve and the unemployment rate as a proxy for recession. Furthermore, given that the slope of the yield curve is supposed to predict recessions, it might be a worthwhile project to determine how far in advance a decrease in the yield curve precedes a recession. If the slope of the yield curve is in fact a reliable predictor of the health of an economy, then certainly it is a worthwhile exercise to attempt to extrapolate as much information as we can from the yield curve so that we may, as a society, prepare adequately for the next economic recession."
   ]
  },
  {
   "cell_type": "code",
   "execution_count": null,
   "metadata": {},
   "outputs": [],
   "source": []
  }
 ],
 "metadata": {
  "kernelspec": {
   "display_name": "Python 3",
   "language": "python",
   "name": "python3"
  },
  "language_info": {
   "codemirror_mode": {
    "name": "ipython",
    "version": 3
   },
   "file_extension": ".py",
   "mimetype": "text/x-python",
   "name": "python",
   "nbconvert_exporter": "python",
   "pygments_lexer": "ipython3",
   "version": "3.8.5"
  }
 },
 "nbformat": 4,
 "nbformat_minor": 4
}
